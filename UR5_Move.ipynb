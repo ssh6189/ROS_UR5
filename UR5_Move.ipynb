{
 "cells": [
  {
   "cell_type": "code",
   "execution_count": 1,
   "metadata": {},
   "outputs": [],
   "source": [
    "import sys\n",
    "import rospy\n",
    "import moveit_commander"
   ]
  },
  {
   "cell_type": "code",
   "execution_count": 2,
   "metadata": {},
   "outputs": [
    {
     "data": {
      "text/plain": [
       "['endeffector', 'manipulator']"
      ]
     },
     "execution_count": 2,
     "metadata": {},
     "output_type": "execute_result"
    },
    {
     "name": "stderr",
     "output_type": "stream",
     "text": [
      "Exception in thread /clock:\n",
      "Traceback (most recent call last):\n",
      "  File \"/home/cai/anaconda3/envs/test/lib/python2.7/threading.py\", line 801, in __bootstrap_inner\n",
      "    self.run()\n",
      "  File \"/home/cai/anaconda3/envs/test/lib/python2.7/threading.py\", line 754, in run\n",
      "    self.__target(*self.__args, **self.__kwargs)\n",
      "  File \"/opt/ros/melodic/lib/python2.7/dist-packages/rospy/impl/tcpros_pubsub.py\", line 168, in robust_connect_subscriber\n",
      "    conn.connect(dest_addr, dest_port, pub_uri, timeout=60.)\n",
      "  File \"/opt/ros/melodic/lib/python2.7/dist-packages/rospy/impl/tcpros_base.py\", line 529, in connect\n",
      "    if not rosgraph.network.is_local_address(dest_addr):\n",
      "  File \"/opt/ros/melodic/lib/python2.7/dist-packages/rosgraph/network.py\", line 170, in is_local_address\n",
      "    local_addresses = ['localhost'] + get_local_addresses()\n",
      "  File \"/opt/ros/melodic/lib/python2.7/dist-packages/rosgraph/network.py\", line 212, in get_local_addresses\n",
      "    import netifaces\n",
      "ImportError: No module named netifaces\n",
      "\n"
     ]
    }
   ],
   "source": [
    "rospy.init_node('test_ur', anonymous=True)\n",
    "moveit_commander.roscpp_initialize(sys.argv)\n",
    "\n",
    "robot = moveit_commander.RobotCommander()\n",
    "scene = moveit_commander.PlanningSceneInterface()\n",
    "group_name = robot.get_group_names()\n",
    "group_name"
   ]
  },
  {
   "cell_type": "code",
   "execution_count": 3,
   "metadata": {},
   "outputs": [
    {
     "data": {
      "text/plain": [
       "<bound method RobotCommander.get_current_state of <moveit_commander.robot.RobotCommander object at 0x7fe9a24bdcd0>>"
      ]
     },
     "execution_count": 3,
     "metadata": {},
     "output_type": "execute_result"
    }
   ],
   "source": [
    "robot.get_current_state"
   ]
  },
  {
   "cell_type": "code",
   "execution_count": 4,
   "metadata": {},
   "outputs": [
    {
     "data": {
      "text/plain": [
       "True"
      ]
     },
     "execution_count": 4,
     "metadata": {},
     "output_type": "execute_result"
    }
   ],
   "source": [
    "move_group = moveit_commander.MoveGroupCommander(group_name[1])\n",
    "move_group.set_named_target('up')\n",
    "plan = move_group.plan()\n",
    "move_group.execute(plan, wait=True)"
   ]
  }
 ],
 "metadata": {
  "kernelspec": {
   "display_name": "Python 2",
   "language": "python",
   "name": "python2"
  },
  "language_info": {
   "codemirror_mode": {
    "name": "ipython",
    "version": 2
   },
   "file_extension": ".py",
   "mimetype": "text/x-python",
   "name": "python",
   "nbconvert_exporter": "python",
   "pygments_lexer": "ipython2",
   "version": "2.7.16"
  }
 },
 "nbformat": 4,
 "nbformat_minor": 2
}
